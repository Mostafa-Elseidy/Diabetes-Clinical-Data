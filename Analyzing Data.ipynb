{
 "cells": [
  {
   "cell_type": "markdown",
   "id": "6475021b",
   "metadata": {},
   "source": [
    "# Analyzing Insulin Clinical Trial Data \n",
    "------\n",
    "**Overview**    \n",
    "An experiment for testing the efficacy and the dose response of a new innovative oral insulin drug called “Auralin” plus identify common short term side effects. We have 350 patient, split into two groups. One hundred seventy-five or half treated with the new oral insulin “Auralin”, and the other 175 being treated with the popular injectable insulin called “Novodra”. By comparing key metrics between these two drugs, we can determine if Auralin is effective. The metric used is HbA1c and this metric measures how well your blood sugar levels have been controlled. If Auralin, the new oral insulin, can reduce HbA1c levels at a similar standard as the injectable insulin Novodra from some standard pretrial baseline, like say they both decrease HbA1c levels from 7.9% to 7.4%, that's a 0.5% drop. If we can get a 0.4 change, we've got ourselves a major medical breakthrough.\n",
    "- -------\n",
    "**Problem**    \n",
    "   To release a new drug, there are essential stages it should pass through and limits not to break. Pre-defined metrics are used to achieve that.\n",
    "-   ----------\n",
    "**Dataset**    \n",
    "Oral Insulin Phase II Clinical Trial Data   \n",
    "-   ------\n",
    "**Objective** analyze and visualize the clinical trial data to check effectiveness and safty"
   ]
  },
  {
   "cell_type": "markdown",
   "id": "b004f74e",
   "metadata": {},
   "source": [
    "## Contents \n",
    "* [Gather](#Gather)\n",
    "* [Analysis](#Analysis)\n",
    "    * [Adverse Reactions](#Adverse_Reactions)\n",
    "    * [Pre-trial/Post-trial Mean Insulin Dose Change (IU)](#Pre-trial/Post-trial_Mean_Insulin_Dose_Change_(IU))\n",
    "    * [HbA1c Change](#HbA1c_Change)"
   ]
  },
  {
   "cell_type": "markdown",
   "id": "490ac964",
   "metadata": {},
   "source": [
    "## Gather"
   ]
  },
  {
   "cell_type": "code",
   "execution_count": 1,
   "id": "e7d3ec1b",
   "metadata": {},
   "outputs": [],
   "source": [
    "import pandas as pd\n",
    "import numpy as np\n",
    "import matplotlib.pyplot as plt\n",
    "import seaborn as sns"
   ]
  },
  {
   "cell_type": "code",
   "execution_count": 2,
   "id": "53519718",
   "metadata": {},
   "outputs": [
    {
     "data": {
      "text/html": [
       "<div>\n",
       "<style scoped>\n",
       "    .dataframe tbody tr th:only-of-type {\n",
       "        vertical-align: middle;\n",
       "    }\n",
       "\n",
       "    .dataframe tbody tr th {\n",
       "        vertical-align: top;\n",
       "    }\n",
       "\n",
       "    .dataframe thead th {\n",
       "        text-align: right;\n",
       "    }\n",
       "</style>\n",
       "<table border=\"1\" class=\"dataframe\">\n",
       "  <thead>\n",
       "    <tr style=\"text-align: right;\">\n",
       "      <th></th>\n",
       "      <th>patient_id</th>\n",
       "      <th>hba1c_start</th>\n",
       "      <th>hba1c_end</th>\n",
       "      <th>hba1c_change</th>\n",
       "      <th>treatment</th>\n",
       "      <th>dose_start</th>\n",
       "      <th>dose_end</th>\n",
       "      <th>adverse_reaction</th>\n",
       "    </tr>\n",
       "  </thead>\n",
       "  <tbody>\n",
       "    <tr>\n",
       "      <th>0</th>\n",
       "      <td>225</td>\n",
       "      <td>7.63</td>\n",
       "      <td>7.20</td>\n",
       "      <td>0.43</td>\n",
       "      <td>auralin</td>\n",
       "      <td>41</td>\n",
       "      <td>48</td>\n",
       "      <td>NaN</td>\n",
       "    </tr>\n",
       "    <tr>\n",
       "      <th>1</th>\n",
       "      <td>242</td>\n",
       "      <td>7.97</td>\n",
       "      <td>7.62</td>\n",
       "      <td>0.35</td>\n",
       "      <td>auralin</td>\n",
       "      <td>33</td>\n",
       "      <td>36</td>\n",
       "      <td>NaN</td>\n",
       "    </tr>\n",
       "    <tr>\n",
       "      <th>2</th>\n",
       "      <td>345</td>\n",
       "      <td>7.65</td>\n",
       "      <td>7.27</td>\n",
       "      <td>0.38</td>\n",
       "      <td>auralin</td>\n",
       "      <td>37</td>\n",
       "      <td>42</td>\n",
       "      <td>NaN</td>\n",
       "    </tr>\n",
       "    <tr>\n",
       "      <th>3</th>\n",
       "      <td>276</td>\n",
       "      <td>7.89</td>\n",
       "      <td>7.55</td>\n",
       "      <td>0.34</td>\n",
       "      <td>auralin</td>\n",
       "      <td>31</td>\n",
       "      <td>38</td>\n",
       "      <td>NaN</td>\n",
       "    </tr>\n",
       "    <tr>\n",
       "      <th>4</th>\n",
       "      <td>15</td>\n",
       "      <td>7.76</td>\n",
       "      <td>7.37</td>\n",
       "      <td>0.39</td>\n",
       "      <td>auralin</td>\n",
       "      <td>30</td>\n",
       "      <td>36</td>\n",
       "      <td>NaN</td>\n",
       "    </tr>\n",
       "  </tbody>\n",
       "</table>\n",
       "</div>"
      ],
      "text/plain": [
       "   patient_id  hba1c_start  hba1c_end  hba1c_change treatment  dose_start  \\\n",
       "0         225         7.63       7.20          0.43   auralin          41   \n",
       "1         242         7.97       7.62          0.35   auralin          33   \n",
       "2         345         7.65       7.27          0.38   auralin          37   \n",
       "3         276         7.89       7.55          0.34   auralin          31   \n",
       "4          15         7.76       7.37          0.39   auralin          30   \n",
       "\n",
       "   dose_end adverse_reaction  \n",
       "0        48              NaN  \n",
       "1        36              NaN  \n",
       "2        42              NaN  \n",
       "3        38              NaN  \n",
       "4        36              NaN  "
      ]
     },
     "execution_count": 2,
     "metadata": {},
     "output_type": "execute_result"
    }
   ],
   "source": [
    "treatments = pd.read_csv('treatments_cleaned.csv')\n",
    "treatments.head()"
   ]
  },
  {
   "cell_type": "markdown",
   "id": "7737570a",
   "metadata": {},
   "source": [
    "## Analysis\n",
    "Auralin vs. Novodra: Clinical Trail Key Metrics\n",
    "- Are there any side effects?\n",
    "- Is the amount of this dose effetive?\n",
    "- Does Auralin control diabetes (Compared to Novodra)?"
   ]
  },
  {
   "cell_type": "markdown",
   "id": "4eba7bd4",
   "metadata": {},
   "source": [
    "### Adverse Reactions\n",
    "Q: Is Auralin safe?     \n",
    "Analysis: inspect side effects"
   ]
  },
  {
   "cell_type": "code",
   "execution_count": 3,
   "id": "e778132d",
   "metadata": {},
   "outputs": [
    {
     "data": {
      "text/plain": [
       "treatment  adverse_reaction         \n",
       "auralin    cough                         1\n",
       "           headache                      1\n",
       "           hypoglycemia                 10\n",
       "           nausea                        1\n",
       "           throat irritation             2\n",
       "novodra    cough                         1\n",
       "           headache                      2\n",
       "           hypoglycemia                 10\n",
       "           injection site discomfort     6\n",
       "           nausea                        1\n",
       "dtype: int64"
      ]
     },
     "execution_count": 3,
     "metadata": {},
     "output_type": "execute_result"
    }
   ],
   "source": [
    "treatments.groupby(['treatment', 'adverse_reaction']).size()"
   ]
  },
  {
   "cell_type": "code",
   "execution_count": 4,
   "id": "01dd011c",
   "metadata": {},
   "outputs": [
    {
     "data": {
      "image/png": "[encoded data removed]",
      "text/plain": [
       "<Figure size 432x288 with 1 Axes>"
      ]
     },
     "metadata": {
      "needs_background": "light"
     },
     "output_type": "display_data"
    }
   ],
   "source": [
    "pd.crosstab(treatments.adverse_reaction.str.capitalize(), treatments.treatment).plot.barh()\n",
    "plt.title('Advese Reaction Counts for Treatments')\n",
    "plt.xlabel('Count')\n",
    "plt.ylabel('Advese Reaction')\n",
    "plt.legend(title='Treatment', labels=[\"Aauralin\", \"Novodra\"]);"
   ]
  },
  {
   "cell_type": "markdown",
   "id": "82de8756",
   "metadata": {},
   "source": [
    "- Hypoglycemia, which is low blood sugar caused by an insulin overdose, is the most adverse reaction.\n",
    "- Throat irritation is a side effect of Auralin, which can be expected because this bill is taken orally and passes by the throat before it gets to the stomach.\n"
   ]
  },
  {
   "cell_type": "markdown",
   "id": "54bf47c5",
   "metadata": {},
   "source": [
    "### Pre-trial/Post-trial Mean Insulin Dose Change (IU)\n",
    "Q: Is Auralin requires a higher dosage to be effective?     \n",
    "Analysis: Compare mean dose_change"
   ]
  },
  {
   "cell_type": "code",
   "execution_count": 5,
   "id": "f85ce7e8",
   "metadata": {},
   "outputs": [],
   "source": [
    "treatments['dose_change'] = treatments.dose_end - treatments.dose_start"
   ]
  },
  {
   "cell_type": "code",
   "execution_count": 6,
   "id": "a9bff12a",
   "metadata": {},
   "outputs": [
    {
     "data": {
      "text/plain": [
       "treatment\n",
       "auralin    8.325714\n",
       "novodra   -0.385057\n",
       "Name: dose_change, dtype: float64"
      ]
     },
     "execution_count": 6,
     "metadata": {},
     "output_type": "execute_result"
    }
   ],
   "source": [
    "treatments.groupby('treatment').dose_change.mean()"
   ]
  },
  {
   "cell_type": "markdown",
   "id": "3d0d7543",
   "metadata": {},
   "source": [
    "Comparing dose change means, the patients that were treated with Auralin required on average 8 more units of insulin to establish a safe steady blood sugar level. For Novodra, patients on avertage required about 0.4 units less of insulin.     \n",
    "The fact that Auralin required more units is kind of expected becuase we knew that oral insulin had a tougher time in getting to the bloodstream through the stomach lining. So the results are good for Auralin or at least they are not bad."
   ]
  },
  {
   "cell_type": "markdown",
   "id": "2d5e5545",
   "metadata": {},
   "source": [
    "### HbA1c Change\n",
    "Q: Is Auralin effective?   \n",
    "Analysis: test the difference between the mean HbA1c changes for Novodra and Auralin with CI 95% (if Auralin causes a reduction in HbA1c that is similar to Novodra)        "
   ]
  },
  {
   "cell_type": "markdown",
   "id": "fda03def",
   "metadata": {},
   "source": [
    "**Domain expert**: (non-inferiority metric) CI difference upper limit < 0.4      \n",
    "For Auralin to be deemed effective, it must be \"noninferior\" to Novodra, the current standard for insulin. This \"noninferiority\" is statistically defined as the upper bound of the 95% confidence interval being less than 0.4 for the difference between the mean HbA1c changes for Novodra and Auralin (i.e., Novodra minus Auralin)."
   ]
  },
  {
   "cell_type": "markdown",
   "id": "def634a4",
   "metadata": {},
   "source": [
    "$$H_0: \\mu_{Novodra} - \\mu_{Auralin} = 0$$\n",
    "$$H_1: \\mu_{Novodra} - \\mu_{Auralin} \\neq 0$$"
   ]
  },
  {
   "cell_type": "code",
   "execution_count": 7,
   "id": "02380ead",
   "metadata": {},
   "outputs": [
    {
     "data": {
      "text/plain": [
       "treatment\n",
       "auralin    0.387657\n",
       "novodra    0.404713\n",
       "Name: hba1c_change, dtype: float64"
      ]
     },
     "execution_count": 7,
     "metadata": {},
     "output_type": "execute_result"
    }
   ],
   "source": [
    "treatments.groupby('treatment').mean().hba1c_change"
   ]
  },
  {
   "cell_type": "markdown",
   "id": "d62d11c7",
   "metadata": {},
   "source": [
    "0.4 for Novodra compared to 0.39 for Auralin\n",
    " "
   ]
  },
  {
   "cell_type": "code",
   "execution_count": 8,
   "id": "e5d9d110",
   "metadata": {},
   "outputs": [
    {
     "data": {
      "text/plain": [
       "treatment\n",
       "auralin    175\n",
       "novodra    174\n",
       "dtype: int64"
      ]
     },
     "execution_count": 8,
     "metadata": {},
     "output_type": "execute_result"
    }
   ],
   "source": [
    "treatments.groupby('treatment').size()"
   ]
  },
  {
   "cell_type": "code",
   "execution_count": 9,
   "id": "938e1756",
   "metadata": {},
   "outputs": [
    {
     "data": {
      "text/plain": [
       "0.40471264367816095"
      ]
     },
     "execution_count": 9,
     "metadata": {},
     "output_type": "execute_result"
    }
   ],
   "source": [
    "treatments[treatments.treatment == 'auralin'].hba1c_change.mean()\n",
    "treatments[treatments.treatment == 'novodra'].hba1c_change.mean()"
   ]
  },
  {
   "cell_type": "markdown",
   "id": "64d13ca6",
   "metadata": {},
   "source": [
    "#### Confidence Interval and Hypothesis Testing\n",
    "- Bootstraping and Sampling\n",
    "- Traditional Statistical Tests"
   ]
  },
  {
   "cell_type": "markdown",
   "id": "29fae841",
   "metadata": {},
   "source": [
    "##### Method 1 "
   ]
  },
  {
   "cell_type": "code",
   "execution_count": 10,
   "id": "f0bfe6bc",
   "metadata": {},
   "outputs": [],
   "source": [
    "diffs = []\n",
    "\n",
    "for _ in range(10000):\n",
    "    bootsample = treatments.sample(treatments.shape[0], replace=True)\n",
    "    aura_mean = bootsample[bootsample.treatment == 'auralin'].hba1c_change.mean()\n",
    "    novo_mean = bootsample[bootsample.treatment == 'novodra'].hba1c_change.mean()\n",
    "    diffs.append(novo_mean - aura_mean)\n",
    "    \n"
   ]
  },
  {
   "cell_type": "code",
   "execution_count": 11,
   "id": "589359a5",
   "metadata": {},
   "outputs": [
    {
     "data": {
      "text/plain": [
       "(0.00456158741120791, 0.029233509589156208)"
      ]
     },
     "execution_count": 11,
     "metadata": {},
     "output_type": "execute_result"
    }
   ],
   "source": [
    "np.percentile(diffs, 2.5), np.percentile(diffs, 97.5)"
   ]
  },
  {
   "cell_type": "code",
   "execution_count": 12,
   "id": "6c2fff38",
   "metadata": {},
   "outputs": [
    {
     "data": {
      "image/png": "[encoded data removed]",
      "text/plain": [
       "<Figure size 432x288 with 1 Axes>"
      ]
     },
     "metadata": {
      "needs_background": "light"
     },
     "output_type": "display_data"
    }
   ],
   "source": [
    "# difference between the means\n",
    "hypothesis_value = 0\n",
    "\n",
    "plt.hist(diffs)\n",
    "plt.axvline(x=hypothesis_value, color='r', label='Chosen Diff.')\n",
    "plt.axvline(x=np.percentile(diffs, 2.5), color='r', linestyle='--', label='C.I.')\n",
    "plt.axvline(x=np.percentile(diffs, 97.5), color='r', linestyle='--')\n",
    "\n",
    "plt.title('Differences Sampling Dist.')\n",
    "plt.legend();"
   ]
  },
  {
   "cell_type": "markdown",
   "id": "1d89d68f",
   "metadata": {},
   "source": [
    "Regect the null hypothesis becuase the difference is out the confidence interval"
   ]
  },
  {
   "cell_type": "markdown",
   "id": "f9feeb61",
   "metadata": {},
   "source": [
    "##### Method 2 "
   ]
  },
  {
   "cell_type": "code",
   "execution_count": 13,
   "id": "5f98b290",
   "metadata": {},
   "outputs": [
    {
     "name": "stdout",
     "output_type": "stream",
     "text": [
      "p-value is  0.0024\n",
      "Reject H0\n"
     ]
    }
   ],
   "source": [
    "observed_diff = treatments[treatments.treatment == 'novodra'].hba1c_change.mean() - \\\n",
    "                        treatments[treatments.treatment == 'auralin'].hba1c_change.mean()\n",
    "diffs = np.array(diffs)\n",
    "null_vals = np.random.normal(0, diffs.std(), diffs.size)\n",
    "\n",
    "# p-value\n",
    "print(\"p-value is \", (null_vals > observed_diff).mean()) \n",
    "if (null_vals > observed_diff).mean() > 0.05:\n",
    "    print(\"Failed to reject H0\")\n",
    "else:\n",
    "    print(\"Reject H0\")"
   ]
  },
  {
   "cell_type": "code",
   "execution_count": 14,
   "id": "418a22d9",
   "metadata": {},
   "outputs": [
    {
     "data": {
      "image/png": "[encoded data removed]",
      "text/plain": [
       "<Figure size 432x288 with 1 Axes>"
      ]
     },
     "metadata": {
      "needs_background": "light"
     },
     "output_type": "display_data"
    }
   ],
   "source": [
    "plt.hist(null_vals)\n",
    "plt.axvline(x=observed_diff, color='r', label='Obs. Diff.')\n",
    "plt.axvline(x=np.percentile(null_vals, 2.5), color='r', linestyle='--', label='C.I.')\n",
    "plt.axvline(x=np.percentile(null_vals, 97.5), color='r', linestyle='--')\n",
    "\n",
    "plt.title('Drawn from Normal Dist. Differences')\n",
    "plt.legend();"
   ]
  },
  {
   "cell_type": "markdown",
   "id": "1ffbc5b1",
   "metadata": {},
   "source": [
    "##### Method 3 "
   ]
  },
  {
   "cell_type": "code",
   "execution_count": 15,
   "id": "c2466bd8",
   "metadata": {},
   "outputs": [
    {
     "data": {
      "text/plain": [
       "(0.004677519696701214, 0.02943348194533496)"
      ]
     },
     "execution_count": 15,
     "metadata": {},
     "output_type": "execute_result"
    }
   ],
   "source": [
    "import statsmodels.stats.api as sm\n",
    "\n",
    "x1 = treatments[treatments.treatment == 'novodra'].hba1c_change\n",
    "x2 = treatments[treatments.treatment == 'auralin'].hba1c_change\n",
    "\n",
    "cm = sm.CompareMeans(sm.DescrStatsW(x1), sm.DescrStatsW(x2))\n",
    "cm.tconfint_diff(usevar='unequal')"
   ]
  },
  {
   "cell_type": "code",
   "execution_count": 16,
   "id": "2ecf1a03",
   "metadata": {},
   "outputs": [
    {
     "data": {
      "text/html": [
       "<table class=\"simpletable\">\n",
       "<caption>Test for equality of means</caption>\n",
       "<tr>\n",
       "      <td></td>         <th>coef</th>     <th>std err</th>      <th>t</th>      <th>P>|t|</th>  <th>[0.025</th>    <th>0.975]</th>  \n",
       "</tr>\n",
       "<tr>\n",
       "  <th>subset #1</th> <td>    0.0171</td> <td>    0.006</td> <td>    2.710</td> <td> 0.007</td> <td>    0.005</td> <td>    0.029</td>\n",
       "</tr>\n",
       "</table>"
      ],
      "text/plain": [
       "<class 'statsmodels.iolib.table.SimpleTable'>"
      ]
     },
     "execution_count": 16,
     "metadata": {},
     "output_type": "execute_result"
    }
   ],
   "source": [
    "cm.summary()"
   ]
  },
  {
   "cell_type": "markdown",
   "id": "930c1cd3",
   "metadata": {},
   "source": [
    "After statistical analysis, we reject *H0: there is a difference* (the HbA1c_change difference between novodra and Auralin is zero), so (Auralin) oral insulin is similarly effective to (Novodra) injectable one and it does not break the upper limit. According to confidence interval of difference (0.0047, 0.0294), the upper limit (0.03) is less than 0.4. This means that Auralin passed Phase II clinical trials."
   ]
  }
 ],
 "metadata": {
  "kernelspec": {
   "display_name": "Python 3 (ipykernel)",
   "language": "python",
   "name": "python3"
  },
  "language_info": {
   "codemirror_mode": {
    "name": "ipython",
    "version": 3
   },
   "file_extension": ".py",
   "mimetype": "text/x-python",
   "name": "python",
   "nbconvert_exporter": "python",
   "pygments_lexer": "ipython3",
   "version": "3.9.7"
  },
  "varInspector": {
   "cols": {
    "lenName": 16,
    "lenType": 16,
    "lenVar": 40
   },
   "kernels_config": {
    "python": {
     "delete_cmd_postfix": "",
     "delete_cmd_prefix": "del ",
     "library": "var_list.py",
     "varRefreshCmd": "print(var_dic_list())"
    },
    "r": {
     "delete_cmd_postfix": ") ",
     "delete_cmd_prefix": "rm(",
     "library": "var_list.r",
     "varRefreshCmd": "cat(var_dic_list()) "
    }
   },
   "types_to_exclude": [
    "module",
    "function",
    "builtin_function_or_method",
    "instance",
    "_Feature"
   ],
   "window_display": false
  }
 },
 "nbformat": 4,
 "nbformat_minor": 5
}
